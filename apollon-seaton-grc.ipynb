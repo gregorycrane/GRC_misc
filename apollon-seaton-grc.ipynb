{
 "cells": [
  {
   "cell_type": "code",
   "execution_count": 1,
   "id": "445beade-d889-45ab-842a-51cfa14508fb",
   "metadata": {},
   "outputs": [
    {
     "ename": "FileNotFoundError",
     "evalue": "[Errno 2] No such file or directory: 'apollonius.brunck1810-grc1.xml'",
     "output_type": "error",
     "traceback": [
      "\u001b[0;31m---------------------------------------------------------------------------\u001b[0m",
      "\u001b[0;31mFileNotFoundError\u001b[0m                         Traceback (most recent call last)",
      "Cell \u001b[0;32mIn[1], line 7\u001b[0m\n\u001b[1;32m      4\u001b[0m outfname \u001b[38;5;241m=\u001b[39m \u001b[38;5;124m'\u001b[39m\u001b[38;5;124mapollonius.brunck1810-grc2.xml\u001b[39m\u001b[38;5;124m'\u001b[39m\n\u001b[1;32m      6\u001b[0m outf \u001b[38;5;241m=\u001b[39m \u001b[38;5;28mopen\u001b[39m(outfname,\u001b[38;5;124m'\u001b[39m\u001b[38;5;124mw\u001b[39m\u001b[38;5;124m'\u001b[39m)\n\u001b[0;32m----> 7\u001b[0m f \u001b[38;5;241m=\u001b[39m \u001b[38;5;28;43mopen\u001b[39;49m\u001b[43m(\u001b[49m\u001b[43mfname\u001b[49m\u001b[43m)\u001b[49m\n\u001b[1;32m      9\u001b[0m curlnum \u001b[38;5;241m=\u001b[39m \u001b[38;5;241m0\u001b[39m\n\u001b[1;32m     10\u001b[0m innotes \u001b[38;5;241m=\u001b[39m \u001b[38;5;241m0\u001b[39m\n",
      "File \u001b[0;32m~/miniforge3/lib/python3.10/site-packages/IPython/core/interactiveshell.py:324\u001b[0m, in \u001b[0;36m_modified_open\u001b[0;34m(file, *args, **kwargs)\u001b[0m\n\u001b[1;32m    317\u001b[0m \u001b[38;5;28;01mif\u001b[39;00m file \u001b[38;5;129;01min\u001b[39;00m {\u001b[38;5;241m0\u001b[39m, \u001b[38;5;241m1\u001b[39m, \u001b[38;5;241m2\u001b[39m}:\n\u001b[1;32m    318\u001b[0m     \u001b[38;5;28;01mraise\u001b[39;00m \u001b[38;5;167;01mValueError\u001b[39;00m(\n\u001b[1;32m    319\u001b[0m         \u001b[38;5;124mf\u001b[39m\u001b[38;5;124m\"\u001b[39m\u001b[38;5;124mIPython won\u001b[39m\u001b[38;5;124m'\u001b[39m\u001b[38;5;124mt let you open fd=\u001b[39m\u001b[38;5;132;01m{\u001b[39;00mfile\u001b[38;5;132;01m}\u001b[39;00m\u001b[38;5;124m by default \u001b[39m\u001b[38;5;124m\"\u001b[39m\n\u001b[1;32m    320\u001b[0m         \u001b[38;5;124m\"\u001b[39m\u001b[38;5;124mas it is likely to crash IPython. If you know what you are doing, \u001b[39m\u001b[38;5;124m\"\u001b[39m\n\u001b[1;32m    321\u001b[0m         \u001b[38;5;124m\"\u001b[39m\u001b[38;5;124myou can use builtins\u001b[39m\u001b[38;5;124m'\u001b[39m\u001b[38;5;124m open.\u001b[39m\u001b[38;5;124m\"\u001b[39m\n\u001b[1;32m    322\u001b[0m     )\n\u001b[0;32m--> 324\u001b[0m \u001b[38;5;28;01mreturn\u001b[39;00m \u001b[43mio_open\u001b[49m\u001b[43m(\u001b[49m\u001b[43mfile\u001b[49m\u001b[43m,\u001b[49m\u001b[43m \u001b[49m\u001b[38;5;241;43m*\u001b[39;49m\u001b[43margs\u001b[49m\u001b[43m,\u001b[49m\u001b[43m \u001b[49m\u001b[38;5;241;43m*\u001b[39;49m\u001b[38;5;241;43m*\u001b[39;49m\u001b[43mkwargs\u001b[49m\u001b[43m)\u001b[49m\n",
      "\u001b[0;31mFileNotFoundError\u001b[0m: [Errno 2] No such file or directory: 'apollonius.brunck1810-grc1.xml'"
     ]
    }
   ],
   "source": [
    "import re\n",
    "\n",
    "fname = 'apollonius.brunck1810-grc1.xml'\n",
    "outfname = 'apollonius.brunck1810-grc2.xml'\n",
    "\n",
    "outf = open(outfname,'w')\n",
    "f = open(fname)\n",
    "\n",
    "curlnum = 0\n",
    "innotes = 0\n",
    "for l in f:\n",
    "    l = re.sub('\\s+$','',l)\n",
    "    if(not l):\n",
    "        continue\n",
    "\n",
    "\n",
    "    if(re.search('<note',l)):\n",
    "        innotes = 1\n",
    "        print(l,file=outf)\n",
    "        continue\n",
    "\n",
    "    if(re.search('</note',l)):\n",
    "        innotes = 0\n",
    "        print(l,file=outf)\n",
    "        continue\n",
    "    if(innotes):\n",
    "        print(l,file=outf)\n",
    "        continue\n",
    "        \n",
    "        \n",
    "    if(re.search('\"book\"',l)):\n",
    "        curlnum = 0\n",
    "    m = re.search('<l n=\"([0-9]+)\"',l)\n",
    "    if(m):\n",
    "        curlnum = int(m[1])\n",
    "    if(re.search(\"<[/]*(pb|l |div|tei|text|body)\",l)):\n",
    "        print(l,file=outf)\n",
    "        continue\n",
    "    curlnum = curlnum + 1\n",
    "    curl = str(curlnum)\n",
    "    print('<l n=\"'+curl+'\">'+l+'</l>',file=outf)\n",
    "outf.close()"
   ]
  },
  {
   "cell_type": "code",
   "execution_count": null,
   "id": "c3440137-d2a1-4ddd-a80f-483717c0f32f",
   "metadata": {},
   "outputs": [],
   "source": []
  },
  {
   "cell_type": "code",
   "execution_count": 20,
   "id": "b5f6da75-77b3-4240-b485-665e9ad9e835",
   "metadata": {},
   "outputs": [
    {
     "name": "stdout",
     "output_type": "stream",
     "text": [
      "apollonius.seaton-oct-grc2.xml\n",
      "tlg0001.tlg001.perseus-grc2.xml\n"
     ]
    }
   ],
   "source": [
    "import re\n",
    "\n",
    "def tmpfile(fname):\n",
    "    m = re.search('([^/]+)$',fname)\n",
    "    if(m):\n",
    "        print(m[1])\n",
    "    else:\n",
    "        print('nofname')\n",
    "\n",
    "tmpfile('apollonius.seaton-oct-grc2.xml')\n",
    "tmpfile('/Users/gcrane/github/canonical-greekLit/data/tlg0001/tlg001/tlg0001.tlg001.perseus-grc2.xml')"
   ]
  },
  {
   "cell_type": "code",
   "execution_count": null,
   "id": "724592b6-adf4-4948-b1fc-7dc626349fb6",
   "metadata": {},
   "outputs": [],
   "source": []
  },
  {
   "cell_type": "code",
   "execution_count": 16,
   "id": "1649ce12-d777-42d7-aaa5-7ce5d43b8da8",
   "metadata": {},
   "outputs": [],
   "source": [
    "import re\n",
    "\n",
    "fname = 'apollonius.seaton-oct-grc1χχ.xml'\n",
    "outfname = 'apollonius.seaton-oct-grc3.xml'\n",
    "\n",
    "outf = open(outfname,'w')\n",
    "f = open(fname)\n",
    "\n",
    "curlnum = 0\n",
    "innotes = 0\n",
    "for l in f:\n",
    "    l = re.sub('\\s+$','',l)\n",
    "    if(not l):\n",
    "        continue\n",
    "\n",
    "\n",
    "    if(re.search('<note',l)):\n",
    "        innotes = 1\n",
    "        print(l,file=outf)\n",
    "        continue\n",
    "\n",
    "    if(re.search('</note',l)):\n",
    "        innotes = 0\n",
    "        print(l,file=outf)\n",
    "        continue\n",
    "    if(innotes):\n",
    "        print(l,file=outf)\n",
    "        continue\n",
    "        \n",
    "        \n",
    "    if(re.search('\"book\"',l)):\n",
    "        curlnum = 0\n",
    "    m = re.search('<l n=\"([0-9]+)\"',l)\n",
    "    if(m):\n",
    "        curlnum = int(m[1])\n",
    "    if(re.search(\"<[/]*(pb|l |div|tei|text|body)\",l)):\n",
    "        print(l,file=outf)\n",
    "        continue\n",
    "    curlnum = curlnum + 1\n",
    "    curl = str(curlnum)\n",
    "    print('<l n=\"'+curl+'\">'+l+'</l>',file=outf)\n",
    "outf.close()"
   ]
  },
  {
   "cell_type": "code",
   "execution_count": null,
   "id": "90bbdab9-1e15-4bcc-8c49-fbc9243b899f",
   "metadata": {},
   "outputs": [],
   "source": []
  }
 ],
 "metadata": {
  "kernelspec": {
   "display_name": "Python 3 (ipykernel)",
   "language": "python",
   "name": "python3"
  },
  "language_info": {
   "codemirror_mode": {
    "name": "ipython",
    "version": 3
   },
   "file_extension": ".py",
   "mimetype": "text/x-python",
   "name": "python",
   "nbconvert_exporter": "python",
   "pygments_lexer": "ipython3",
   "version": "3.10.9"
  }
 },
 "nbformat": 4,
 "nbformat_minor": 5
}
