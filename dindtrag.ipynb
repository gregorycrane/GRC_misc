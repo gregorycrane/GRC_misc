{
 "cells": [
  {
   "cell_type": "code",
   "execution_count": 14,
   "id": "3e4f703a-bf7c-4aeb-a44e-dedae643fb85",
   "metadata": {},
   "outputs": [
    {
     "name": "stdout",
     "output_type": "stream",
     "text": [
      "jump 174 175\n",
      "jump 179 180\n",
      "jump 322 334\n",
      "jump 335 347\n",
      "jump 348 360\n",
      "jump 361 373\n",
      "jump 374 382\n",
      "jump 383 389\n",
      "jump 390 397\n",
      "jump 491 499\n",
      "jump 500 508\n",
      "jump 509 517\n",
      "jump 519 526\n",
      "jump 527 538\n",
      "jump 539 550\n",
      "jump 551 557\n",
      "jump 558 566\n",
      "jump 789 790\n",
      "jump 794 795\n",
      "jump 819 820\n",
      "jump 824 825\n",
      "jump 854 855\n",
      "jump 879 880\n",
      "jump 959 960\n",
      "jump 979 980\n",
      "jump 1034 1035\n",
      "jump 1039 1040\n"
     ]
    }
   ],
   "source": [
    "import re\n",
    "\n",
    "def dofile(fname):\n",
    "    outfname = re.sub('1\\.xml','2.xml',fname)\n",
    "    f = open(fname)\n",
    "    outf = open(outfname,'w')\n",
    "    curlnum = 0\n",
    "    for l in f:\n",
    "        l = re.sub('\\s+$','',l)\n",
    "        if(re.search('^<',l)):\n",
    "            print(l,file=outf)\n",
    "            continue\n",
    "        if(not l):\n",
    "            continue\n",
    "        curlnum = curlnum + 1\n",
    "        m = re.search('^([0-9]+)\\s*',l)\n",
    "        if(m):\n",
    "            workln  = int(m[1])\n",
    "            if(not curlnum == workln):\n",
    "                print('jump',curlnum,workln)\n",
    "                curlnum = workln\n",
    "            l = re.sub('^([0-9]+)\\s*','',l)\n",
    "        print('<l n=\"'+str(curlnum)+'\">'+l + '</l>',file=outf)\n",
    "\n",
    "#dofile('tlg0085.tlg007.dindorf1856-grc1.xml')\n",
    "#dofile('tlg0085.tlg007.dindorf1856-lat1.xml')\n",
    "\n"
   ]
  },
  {
   "cell_type": "code",
   "execution_count": null,
   "id": "6ffb6dcd-5741-46df-b6a5-25673b7b328d",
   "metadata": {},
   "outputs": [],
   "source": []
  },
  {
   "cell_type": "code",
   "execution_count": null,
   "id": "e476ee89-5206-4478-a1cb-96294b023433",
   "metadata": {},
   "outputs": [],
   "source": []
  }
 ],
 "metadata": {
  "kernelspec": {
   "display_name": "Python 3 (ipykernel)",
   "language": "python",
   "name": "python3"
  },
  "language_info": {
   "codemirror_mode": {
    "name": "ipython",
    "version": 3
   },
   "file_extension": ".py",
   "mimetype": "text/x-python",
   "name": "python",
   "nbconvert_exporter": "python",
   "pygments_lexer": "ipython3",
   "version": "3.10.9"
  }
 },
 "nbformat": 4,
 "nbformat_minor": 5
}
