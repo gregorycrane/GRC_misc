{
 "cells": [
  {
   "cell_type": "code",
   "execution_count": null,
   "id": "445beade-d889-45ab-842a-51cfa14508fb",
   "metadata": {},
   "outputs": [],
   "source": [
    "import re\n",
    "\n",
    "fname = 'apollonius.brunck1810-grc1.xml'\n",
    "outfname = 'apollonius.brunck1810-grc2.xml'\n",
    "\n",
    "outf = open(outfname,'w')\n",
    "f = open(fname)\n",
    "\n",
    "curlnum = 0\n",
    "innotes = 0\n",
    "for l in f:\n",
    "    l = re.sub('\\s+$','',l)\n",
    "    if(not l):\n",
    "        continue\n",
    "\n",
    "\n",
    "    if(re.search('<note',l)):\n",
    "        innotes = 1\n",
    "        print(l,file=outf)\n",
    "        continue\n",
    "\n",
    "    if(re.search('</note',l)):\n",
    "        innotes = 0\n",
    "        print(l,file=outf)\n",
    "        continue\n",
    "    if(innotes):\n",
    "        print(l,file=outf)\n",
    "        continue\n",
    "        \n",
    "        \n",
    "    if(re.search('\"book\"',l)):\n",
    "        curlnum = 0\n",
    "    m = re.search('<l n=\"([0-9]+)\"',l)\n",
    "    if(m):\n",
    "        curlnum = int(m[1])\n",
    "    if(re.search(\"<[/]*(pb|l |div|tei|text|body)\",l)):\n",
    "        print(l,file=outf)\n",
    "        continue\n",
    "    curlnum = curlnum + 1\n",
    "    curl = str(curlnum)\n",
    "    print('<l n=\"'+curl+'\">'+l+'</l>',file=outf)\n",
    "outf.close()"
   ]
  },
  {
   "cell_type": "code",
   "execution_count": 20,
   "id": "b5f6da75-77b3-4240-b485-665e9ad9e835",
   "metadata": {},
   "outputs": [
    {
     "name": "stdout",
     "output_type": "stream",
     "text": [
      "apollonius.seaton-oct-grc2.xml\n",
      "tlg0001.tlg001.perseus-grc2.xml\n"
     ]
    }
   ],
   "source": [
    "import re\n",
    "\n",
    "def tmpfile(fname):\n",
    "    m = re.search('([^/]+)$',fname)\n",
    "    if(m):\n",
    "        print(m[1])\n",
    "    else:\n",
    "        print('nofname')\n",
    "\n",
    "tmpfile('apollonius.seaton-oct-grc2.xml')\n",
    "tmpfile('/Users/gcrane/github/canonical-greekLit/data/tlg0001/tlg001/tlg0001.tlg001.perseus-grc2.xml')"
   ]
  },
  {
   "cell_type": "code",
   "execution_count": null,
   "id": "724592b6-adf4-4948-b1fc-7dc626349fb6",
   "metadata": {},
   "outputs": [],
   "source": []
  },
  {
   "cell_type": "code",
   "execution_count": 16,
   "id": "1649ce12-d777-42d7-aaa5-7ce5d43b8da8",
   "metadata": {},
   "outputs": [],
   "source": [
    "import re\n",
    "\n",
    "fname = 'apollonius.seaton-oct-grc1χχ.xml'\n",
    "outfname = 'apollonius.seaton-oct-grc3.xml'\n",
    "\n",
    "outf = open(outfname,'w')\n",
    "f = open(fname)\n",
    "\n",
    "curlnum = 0\n",
    "innotes = 0\n",
    "for l in f:\n",
    "    l = re.sub('\\s+$','',l)\n",
    "    if(not l):\n",
    "        continue\n",
    "\n",
    "\n",
    "    if(re.search('<note',l)):\n",
    "        innotes = 1\n",
    "        print(l,file=outf)\n",
    "        continue\n",
    "\n",
    "    if(re.search('</note',l)):\n",
    "        innotes = 0\n",
    "        print(l,file=outf)\n",
    "        continue\n",
    "    if(innotes):\n",
    "        print(l,file=outf)\n",
    "        continue\n",
    "        \n",
    "        \n",
    "    if(re.search('\"book\"',l)):\n",
    "        curlnum = 0\n",
    "    m = re.search('<l n=\"([0-9]+)\"',l)\n",
    "    if(m):\n",
    "        curlnum = int(m[1])\n",
    "    if(re.search(\"<[/]*(pb|l |div|tei|text|body)\",l)):\n",
    "        print(l,file=outf)\n",
    "        continue\n",
    "    curlnum = curlnum + 1\n",
    "    curl = str(curlnum)\n",
    "    print('<l n=\"'+curl+'\">'+l+'</l>',file=outf)\n",
    "outf.close()"
   ]
  },
  {
   "cell_type": "code",
   "execution_count": null,
   "id": "90bbdab9-1e15-4bcc-8c49-fbc9243b899f",
   "metadata": {},
   "outputs": [],
   "source": []
  }
 ],
 "metadata": {
  "kernelspec": {
   "display_name": "Python 3 (ipykernel)",
   "language": "python",
   "name": "python3"
  },
  "language_info": {
   "codemirror_mode": {
    "name": "ipython",
    "version": 3
   },
   "file_extension": ".py",
   "mimetype": "text/x-python",
   "name": "python",
   "nbconvert_exporter": "python",
   "pygments_lexer": "ipython3",
   "version": "3.10.9"
  }
 },
 "nbformat": 4,
 "nbformat_minor": 5
}
