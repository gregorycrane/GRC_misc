{
 "cells": [
  {
   "cell_type": "code",
   "execution_count": 12,
   "id": "2469a48f-fcda-401b-bde7-34c0cf622de7",
   "metadata": {},
   "outputs": [],
   "source": [
    "import re\n",
    "import unicodedata\n",
    "\n",
    "# Mapping of Greek vowels with oxia → tonos\n",
    "OXIA_TO_TONOS = {\n",
    "    'Ά': 'Ά',  # No change (same in both systems)\n",
    "    'Έ': 'Έ',  \n",
    "    'Ή': 'Ή',  \n",
    "    'Ί': 'Ί',  \n",
    "    'Ό': 'Ό',  \n",
    "    'Ύ': 'Ύ',  \n",
    "    'Ώ': 'Ώ',  \n",
    "    'ά': 'ά',  \n",
    "    'έ': 'έ',  \n",
    "    'ή': 'ή',  \n",
    "    'ί': 'ί',  \n",
    "    'ό': 'ό',  \n",
    "    'ύ': 'ύ',  \n",
    "    'ώ': 'ώ',  \n",
    "    'ῒ': 'ΐ',  # iota with dialytika and oxia → tonos\n",
    "    'ΐ': 'ΐ',  \n",
    "    'ῢ': 'ΰ',  # upsilon with dialytika and oxia → tonos\n",
    "    'ΰ': 'ΰ',  \n",
    "}\n",
    "\n",
    "def replace_oxia_with_tonos(text):\n",
    "    \"\"\"Replace Greek vowels with oxia with their tonos equivalent.\"\"\"\n",
    "    return \"\".join(OXIA_TO_TONOS.get(char, char) for char in text)\n",
    "\n",
    "fname = 'tlg5012.tlg001.wendel1935-grc1a.xml'\n",
    "outfname = 'tlg5012.tlg001.wendel1935-grc2a.xml'\n",
    "\n",
    "f = open(fname)\n",
    "outf = open(outfname,'w')\n",
    "for l in f:\n",
    "    l = re.sub('\\s+$','',l)\n",
    "    l = re.sub('ί', 'ί',l)\n",
    "    l = re.sub('έ', 'έ',l)\n",
    "    \n",
    "    l = replace_oxia_with_tonos(l)\n",
    "    print(l,file=outf)\n",
    "f.close()\n",
    "outf.close()\n",
    "\n"
   ]
  },
  {
   "cell_type": "code",
   "execution_count": null,
   "id": "48ad87be-6be1-45bf-86b6-1290199babdf",
   "metadata": {},
   "outputs": [],
   "source": []
  }
 ],
 "metadata": {
  "kernelspec": {
   "display_name": "Python 3 (ipykernel)",
   "language": "python",
   "name": "python3"
  },
  "language_info": {
   "codemirror_mode": {
    "name": "ipython",
    "version": 3
   },
   "file_extension": ".py",
   "mimetype": "text/x-python",
   "name": "python",
   "nbconvert_exporter": "python",
   "pygments_lexer": "ipython3",
   "version": "3.10.9"
  }
 },
 "nbformat": 4,
 "nbformat_minor": 5
}
