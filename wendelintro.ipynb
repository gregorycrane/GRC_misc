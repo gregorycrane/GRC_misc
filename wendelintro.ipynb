{
 "cells": [
  {
   "cell_type": "code",
   "execution_count": null,
   "id": "c2dc4894-6e17-4030-b019-d88c72a50de9",
   "metadata": {},
   "outputs": [],
   "source": [
    "import re\n",
    "\n",
    "def docnts(fname):\n",
    "\n",
    "    fname = 'tlg5012.tlg001.wendel1935-intro-lat2.xml'\n",
    "outfname = '/tmp/' + 'tlg5012.tlg001.wendel1935-intro-lat1.xml'\n",
    "print(outfname)\n",
    "f = open(fname)\n",
    "outf = open(outfname,'w')\n",
    "parnum = 0\n",
    "sentnum = 0\n",
    "\n",
    "for l in f:\n",
    "    while(re.search('<p [^>]+>',l)):\n",
    "        parnum = parnum + 1\n",
    "        parnums = str(parnum)\n",
    "        l = re.sub('<p [^>]+>','<p n=\"'+parnums+'\">',l,1)\n",
    "    while(re.search('<s [^>]+>',l)):\n",
    "        sentnum = sentnum + 1\n",
    "        sentnums = str(sentnum)\n",
    "        l = re.sub('<s [^>]+>','<s n=\"'+sentnums+'\">',l,1)\n",
    "    l = re.sub('\\s+$','',l)\n",
    "    print(l,file=outf)\n",
    "\n",
    "outf.close()\n",
    "f.close()\n",
    "\n",
    "\n",
    "    "
   ]
  },
  {
   "cell_type": "code",
   "execution_count": 10,
   "id": "1c67873a-bb2d-4fa7-aad6-475a80acb957",
   "metadata": {},
   "outputs": [
    {
     "name": "stdout",
     "output_type": "stream",
     "text": [
      "tlg5012.tlg001.wendel1935-intro-lat2.xml\n"
     ]
    }
   ],
   "source": [
    "# don't use this again\n",
    "\n",
    "import re\n",
    "\n",
    "fname = 'tlg5012.tlg001.wendel1935-intro-lat1.xml'\n",
    "outfname = re.sub('-lat1','-lat2',fname)\n",
    "print(outfname)\n",
    "f = open(fname)\n",
    "#outf = open(outfname,'w')\n",
    "parnum = 0\n",
    "sentnum = 0\n",
    "\n",
    "for l in f:\n",
    "    while(re.search('<p>',l)):\n",
    "        parnum = parnum + 1\n",
    "        parnums = str(parnum)\n",
    "        l = re.sub('<p>','<p n=\"'+parnums+'\">',l,1)\n",
    "    while(re.search('<s>',l)):\n",
    "        sentnum = sentnum + 1\n",
    "        sentnums = str(sentnum)\n",
    "        l = re.sub('<s>','<s n=\"'+sentnums+'\">',l,1)\n",
    "    l = re.sub('\\s+$','',l)\n",
    "    print(l,file=outf)\n",
    "\n",
    "outf.close()\n",
    "f.close()"
   ]
  },
  {
   "cell_type": "code",
   "execution_count": null,
   "id": "22dad949-da5b-43ec-97fe-2cd0568a675b",
   "metadata": {},
   "outputs": [],
   "source": []
  }
 ],
 "metadata": {
  "kernelspec": {
   "display_name": "Python 3 (ipykernel)",
   "language": "python",
   "name": "python3"
  },
  "language_info": {
   "codemirror_mode": {
    "name": "ipython",
    "version": 3
   },
   "file_extension": ".py",
   "mimetype": "text/x-python",
   "name": "python",
   "nbconvert_exporter": "python",
   "pygments_lexer": "ipython3",
   "version": "3.10.9"
  }
 },
 "nbformat": 4,
 "nbformat_minor": 5
}
