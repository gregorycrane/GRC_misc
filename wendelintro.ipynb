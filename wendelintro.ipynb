{
 "cells": [
  {
   "cell_type": "code",
   "execution_count": 41,
   "id": "c2dc4894-6e17-4030-b019-d88c72a50de9",
   "metadata": {},
   "outputs": [
    {
     "name": "stdout",
     "output_type": "stream",
     "text": [
      "helllo world\n",
      "/tmp/tlg5012.tlg001.wendel1935-intro-lat2.xml\n",
      "/tmp/tlg5012.tlg001.wendel1935-intro-eng1.xml\n"
     ]
    }
   ],
   "source": [
    "import re\n",
    "print('helllo world')\n",
    "def docnts(fname):\n",
    "\n",
    "    outfname = '/tmp/' + fname\n",
    "    print(outfname)\n",
    "    f = open(fname)\n",
    "    outf = open(outfname,'w')\n",
    "    parnum = 0\n",
    "    sentnum = 0\n",
    "\n",
    "    for l in f:\n",
    "        #print(l)\n",
    "        l = re.sub('<p [^>]+>','<p>',l)\n",
    "        l = re.sub('<s [^>]+>','<s>',l)\n",
    "        while(re.search('<p>',l)):\n",
    "            parnum = parnum + 1\n",
    "            parnums = str(parnum)\n",
    "            l = re.sub('<p>','<p n=\"'+parnums+'\">',l,1)\n",
    "        while(re.search('<s>',l)):\n",
    "            sentnum = sentnum + 1\n",
    "            sentnums = str(sentnum)\n",
    "            l = re.sub('<s>','<s n=\"'+sentnums+'\">',l,1)\n",
    "        l = re.sub('\\s+$','',l)\n",
    "        print(l,file=outf)\n",
    "\n",
    "    outf.close()\n",
    "    f.close()\n",
    "\n",
    "    \n",
    "    outf = open(fname,'w')\n",
    "    f = open(outfname)\n",
    "    for l in f:\n",
    "        print(l,file=outf,end='')\n",
    "\n",
    "    outf.close()\n",
    "    f.close()\n",
    "\n",
    "    \n",
    "\n",
    "docnts('tlg5012.tlg001.wendel1935-intro-lat2.xml')\n",
    "docnts('tlg5012.tlg001.wendel1935-intro-eng1.xml')\n",
    "    "
   ]
  },
  {
   "cell_type": "code",
   "execution_count": 25,
   "id": "1c67873a-bb2d-4fa7-aad6-475a80acb957",
   "metadata": {},
   "outputs": [
    {
     "name": "stdout",
     "output_type": "stream",
     "text": [
      "tlg5012.tlg001.wendel1935-intro-lat2.xml\n"
     ]
    },
    {
     "ename": "NameError",
     "evalue": "name 'f' is not defined",
     "output_type": "error",
     "traceback": [
      "\u001b[0;31m---------------------------------------------------------------------------\u001b[0m",
      "\u001b[0;31mNameError\u001b[0m                                 Traceback (most recent call last)",
      "Cell \u001b[0;32mIn[25], line 13\u001b[0m\n\u001b[1;32m     10\u001b[0m parnum \u001b[38;5;241m=\u001b[39m \u001b[38;5;241m0\u001b[39m\n\u001b[1;32m     11\u001b[0m sentnum \u001b[38;5;241m=\u001b[39m \u001b[38;5;241m0\u001b[39m\n\u001b[0;32m---> 13\u001b[0m \u001b[38;5;28;01mfor\u001b[39;00m l \u001b[38;5;129;01min\u001b[39;00m \u001b[43mf\u001b[49m:\n\u001b[1;32m     14\u001b[0m     \u001b[38;5;28;01mwhile\u001b[39;00m(re\u001b[38;5;241m.\u001b[39msearch(\u001b[38;5;124m'\u001b[39m\u001b[38;5;124m<p>\u001b[39m\u001b[38;5;124m'\u001b[39m,l)):\n\u001b[1;32m     15\u001b[0m         parnum \u001b[38;5;241m=\u001b[39m parnum \u001b[38;5;241m+\u001b[39m \u001b[38;5;241m1\u001b[39m\n",
      "\u001b[0;31mNameError\u001b[0m: name 'f' is not defined"
     ]
    }
   ],
   "source": [
    "# don't use this again\n",
    "\n",
    "import re\n",
    "\n",
    "fname = 'tlg5012.tlg001.wendel1935-intro-lat1.xml'\n",
    "outfname = re.sub('-lat1','-lat2',fname)\n",
    "print(outfname)\n",
    "#f = open(fname)\n",
    "#outf = open(outfname,'w')\n",
    "parnum = 0\n",
    "sentnum = 0\n",
    "\n",
    "for l in f:\n",
    "    while(re.search('<p>',l)):\n",
    "        parnum = parnum + 1\n",
    "        parnums = str(parnum)\n",
    "        l = re.sub('<p>','<p n=\"'+parnums+'\">',l,1)\n",
    "    while(re.search('<s>',l)):\n",
    "        sentnum = sentnum + 1\n",
    "        sentnums = str(sentnum)\n",
    "        l = re.sub('<s>','<s n=\"'+sentnums+'\">',l,1)\n",
    "    l = re.sub('\\s+$','',l)\n",
    "    print(l,file=outf)\n",
    "\n",
    "outf.close()\n",
    "f.close()"
   ]
  },
  {
   "cell_type": "code",
   "execution_count": null,
   "id": "22dad949-da5b-43ec-97fe-2cd0568a675b",
   "metadata": {},
   "outputs": [],
   "source": []
  }
 ],
 "metadata": {
  "kernelspec": {
   "display_name": "Python 3 (ipykernel)",
   "language": "python",
   "name": "python3"
  },
  "language_info": {
   "codemirror_mode": {
    "name": "ipython",
    "version": 3
   },
   "file_extension": ".py",
   "mimetype": "text/x-python",
   "name": "python",
   "nbconvert_exporter": "python",
   "pygments_lexer": "ipython3",
   "version": "3.10.9"
  }
 },
 "nbformat": 4,
 "nbformat_minor": 5
}
