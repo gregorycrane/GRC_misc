{
 "cells": [
  {
   "cell_type": "code",
   "execution_count": null,
   "id": "1649ce12-d777-42d7-aaa5-7ce5d43b8da8",
   "metadata": {},
   "outputs": [],
   "source": []
  }
 ],
 "metadata": {
  "kernelspec": {
   "display_name": "",
   "name": ""
  },
  "language_info": {
   "name": ""
  }
 },
 "nbformat": 4,
 "nbformat_minor": 5
}
